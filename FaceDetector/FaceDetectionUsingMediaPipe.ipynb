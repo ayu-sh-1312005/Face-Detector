{
 "cells": [
  {
   "cell_type": "code",
   "execution_count": 12,
   "id": "f5dafead",
   "metadata": {},
   "outputs": [],
   "source": [
    "import cv2\n",
    "import mediapipe as mp\n",
    "import time"
   ]
  },
  {
   "cell_type": "code",
   "execution_count": 25,
   "id": "8ab4f0ef",
   "metadata": {},
   "outputs": [],
   "source": [
    "mpFaceDetection=mp.solutions.face_detection\n",
    "faceDetection=mpFaceDetection.FaceDetection()\n",
    "mpDraw=mp.solutions.drawing_utils"
   ]
  },
  {
   "cell_type": "code",
   "execution_count": 30,
   "id": "287ec108",
   "metadata": {},
   "outputs": [],
   "source": [
    "cap=cv2.VideoCapture(0)\n",
    "iTime=0\n",
    "pTime=0\n",
    "while True:\n",
    "    success,img=cap.read()\n",
    "    imgRGB=cv2.cvtColor(img,cv2.COLOR_BGR2RGB)\n",
    "    results=faceDetection.process(imgRGB)\n",
    "    if results.detections:\n",
    "        for id,detection in enumerate(results.detections):\n",
    "            bbox=detection.location_data.relative_bounding_box\n",
    "            ih,iw,ic=img.shape\n",
    "            x,y,w,h=int(bbox.xmin*iw),int(bbox.ymin*ih),int(bbox.width*iw),int(bbox.height*ih)\n",
    "            cv2.rectangle(img,(x,y),(x+h,y+w),(255,0,255),2)\n",
    "            cv2.putText(img,f'{int(detection.score[0]*100)}%',(x,y-20),cv2.FONT_HERSHEY_PLAIN,2,(0,255,0),2)\n",
    "         #   mpDraw.draw_detection(img,detection)\n",
    "#             x=detection.location_data.relative_bounding_box.xmin\n",
    "#             y=detection.location_data.relative_bounding_box.ymin\n",
    "#             w=detection.location_data.relative_bounding_box.width\n",
    "#             h=detection.location_data.relative_bounding_box.height\n",
    "#             cv2.rectangle(img,(x,y),(x+h,y+w),(255,0,255),2)\n",
    "    \n",
    "    # fps\n",
    "    iTime=time.time()\n",
    "    fps=1/(iTime-pTime)\n",
    "    cv2.putText(img,str(int(fps)),(20,70),cv2.FONT_HERSHEY_PLAIN,3,(0,255,0),5)\n",
    "    pTime=iTime\n",
    "    \n",
    "    cv2.imshow(\"img\",img)\n",
    "    if cv2.waitKey(1) & 0xFF==ord('a'):\n",
    "        break\n",
    "cap.release()\n",
    "cv2.destroyAllWindows()"
   ]
  },
  {
   "cell_type": "code",
   "execution_count": null,
   "id": "1f4351ab",
   "metadata": {},
   "outputs": [],
   "source": []
  },
  {
   "cell_type": "code",
   "execution_count": 15,
   "id": "8a5d6379",
   "metadata": {},
   "outputs": [
    {
     "data": {
      "text/plain": [
       "['BLACK_COLOR',\n",
       " 'BLUE_COLOR',\n",
       " 'DrawingSpec',\n",
       " 'GREEN_COLOR',\n",
       " 'List',\n",
       " 'Mapping',\n",
       " 'Optional',\n",
       " 'RED_COLOR',\n",
       " 'Tuple',\n",
       " 'Union',\n",
       " 'WHITE_COLOR',\n",
       " '_BGR_CHANNELS',\n",
       " '_PRESENCE_THRESHOLD',\n",
       " '_VISIBILITY_THRESHOLD',\n",
       " '__builtins__',\n",
       " '__cached__',\n",
       " '__doc__',\n",
       " '__file__',\n",
       " '__loader__',\n",
       " '__name__',\n",
       " '__package__',\n",
       " '__spec__',\n",
       " '_normalize_color',\n",
       " '_normalized_to_pixel_coordinates',\n",
       " 'cv2',\n",
       " 'dataclasses',\n",
       " 'detection_pb2',\n",
       " 'draw_axis',\n",
       " 'draw_detection',\n",
       " 'draw_landmarks',\n",
       " 'landmark_pb2',\n",
       " 'location_data_pb2',\n",
       " 'math',\n",
       " 'np',\n",
       " 'plot_landmarks',\n",
       " 'plt']"
      ]
     },
     "execution_count": 15,
     "metadata": {},
     "output_type": "execute_result"
    }
   ],
   "source": [
    "dir(mpDraw)"
   ]
  }
 ],
 "metadata": {
  "kernelspec": {
   "display_name": "Python 3 (ipykernel)",
   "language": "python",
   "name": "python3"
  },
  "language_info": {
   "codemirror_mode": {
    "name": "ipython",
    "version": 3
   },
   "file_extension": ".py",
   "mimetype": "text/x-python",
   "name": "python",
   "nbconvert_exporter": "python",
   "pygments_lexer": "ipython3",
   "version": "3.10.8"
  }
 },
 "nbformat": 4,
 "nbformat_minor": 5
}
